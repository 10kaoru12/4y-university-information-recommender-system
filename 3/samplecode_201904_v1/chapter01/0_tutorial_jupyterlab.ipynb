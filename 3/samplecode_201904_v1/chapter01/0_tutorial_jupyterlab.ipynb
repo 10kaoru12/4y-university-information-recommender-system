{
 "cells": [
  {
   "cell_type": "markdown",
   "metadata": {},
   "source": [
    "## はじめてのプログラムをノートブック上で実行してみる \n",
    "\n",
    "まずは手を動かしJupyter Labでの操作を手を動かしていきながら覚えていきましょう。 \n",
    "\n",
    "プログラムを動かすためには最初にノートブックファイルを作成します。\n",
    "このファイルは.ipynb拡張子で記述されます。\n",
    "\n",
    "画面左上の*File*→*New*→Notebookを選択し、新しいノートブックファイルを作成しましょう。\n",
    "\n",
    "*Select Kenrnel*の表記ではノートブックを動かす実行環境であるカーネル(Kernel)が選択できます。\n",
    "ここでは _conda_python3_ を選択しましょう。するとUntitled.ipynbと名前のついたファイルが作成されます。\n",
    "\n",
    "作成されたUntitled.ipynbをダブルクリックしましょう。\n",
    "そのファイルの新しいタブが開かれるはずです。"
   ]
  },
  {
   "cell_type": "markdown",
   "metadata": {},
   "source": [
    "Jupyter Labでは、セルと呼ばれる単位でプログラミングコードないしテキストを記述することができます。\n",
    "GUI操作の他に標準的なキーバインドが用意されているため　vimやemacas、Sublime Textなどの代表的なエディタの操作を\n",
    "Jupyter Lab上のNotebookで行うことがでいます。\n",
    "影のかかったブロックをダブルクリックし、以下のプログラムを記入しましょう。\n",
    "\n",
    "入力が完了した時、画面上部の[▶︎]を押します。\n",
    "すると入力完了すると同時にセルの内容の実行が行われます。"
   ]
  },
  {
   "cell_type": "code",
   "execution_count": 1,
   "metadata": {},
   "outputs": [
    {
     "name": "stdout",
     "output_type": "stream",
     "text": [
      "Hello, Jupyter Lab\n"
     ]
    }
   ],
   "source": [
    "print(\"Hello, Jupyter Lab\")"
   ]
  },
  {
   "cell_type": "markdown",
   "metadata": {},
   "source": [
    "実行されるとセルの左に備えられた「[ ]」には数字が添えられ、下部には「Hello, Jupyter Lab」と表示されます。\n",
    "このようにJupyterLabではセルというブロックの単位でプログラムが実行されます。\n",
    "セル内でのコードの記述は通常のPythonと同様です。\n",
    "書いたプログラムが即実行されるようになります。\n",
    "下部に表示されるのは標準出力に出力された内容とセル内の最後の行の評価された値が表示されます。\n",
    "\n",
    "これに続き、次のようなプログラムを書いてみましょう。"
   ]
  },
  {
   "cell_type": "code",
   "execution_count": 16,
   "metadata": {},
   "outputs": [
    {
     "data": {
      "text/plain": [
       "'3.6.5 |Anaconda custom (64-bit)| (default, Apr 29 2018, 16:14:56) \\n[GCC 7.2.0]'"
      ]
     },
     "execution_count": 16,
     "metadata": {},
     "output_type": "execute_result"
    }
   ],
   "source": [
    "import sys\n",
    "\n",
    "sys.version"
   ]
  },
  {
   "cell_type": "markdown",
   "metadata": {},
   "source": [
    "上記のプログラムを実行すると実行環境上のPythonのバージョン情報が表示されます。\n",
    "上記のプログラムでは標準出力を行なっていません。セルの実行時に、ノートブック形式のファイルは最後の行を実行環境上で評価し、その結果をセル下部に出力するようになっています。\n",
    "\n",
    "ただし、出力が表示されるのは最後の行が評価されるのはインデントが最左になっている場合のみです。\n",
    "次のプログラムの場合、*i*は評価されません。"
   ]
  },
  {
   "cell_type": "code",
   "execution_count": 26,
   "metadata": {
    "slideshow": {
     "slide_type": "-"
    }
   },
   "outputs": [],
   "source": [
    "for i in range(10):\n",
    "    i"
   ]
  },
  {
   "cell_type": "markdown",
   "metadata": {},
   "source": [
    "またセルの特徴として、セル個別に実行されたプログラムの内容は引き継がれるようになっています。\n",
    "そのため、次のプログラムはセル内では*i*の定義が宣言されていませんが正常に動作します。\n",
    "\n",
    "これは先ほどのブロックで定義された*i*がセル内でも使われるためです。"
   ]
  },
  {
   "cell_type": "code",
   "execution_count": 22,
   "metadata": {},
   "outputs": [
    {
     "name": "stdout",
     "output_type": "stream",
     "text": [
      "9\n"
     ]
    }
   ],
   "source": [
    "print(i)"
   ]
  },
  {
   "cell_type": "markdown",
   "metadata": {},
   "source": [
    "このようにJuptyerLabでは個別のセルがプログラムの実行単位になりつつも\n",
    "セルの中で宣言された関数や変数などの情報はセル横断的に引き継ぐようになります。\n",
    "\n",
    "セルの順番は関係はなく、下から上にセルを実行していった場合にも定義は引き継がれるようになっているため\n",
    "注意が必要です。\n",
    "予期しないバグを防ぐために以下のようなことを習慣づけると心がけると良いでしょう。\n",
    "\n",
    "- セルの順番が実行時の順番となるように適宜並び替えること\n",
    "- 変数や関数の定義のスコープを狭くすること\n",
    "- 命名規則としてコンフリクトしやすい短い文字列を使わずに、解釈のしやすい名前を使うこと"
   ]
  },
  {
   "cell_type": "markdown",
   "metadata": {},
   "source": [
    "次にセル内にコードではなくMarkdownテキストを記述してみましょう。\n",
    "\n",
    "# この文字列はh1で表示されます\n",
    "## この文字列はh2で表示されます。\n",
    "### この文字列はh2で表示されます。\n",
    "\n",
    "*斜体* で表示されます。\n",
    "\n",
    "**太字** で表示されます。\n",
    "\n",
    "```python\n",
    "import sys\n",
    "\n",
    "print(\"Markdownの中にさらにプログラムを埋め込むことができます\")\n",
    "print(sys.version)\n",
    "```\n",
    "\n",
    "[マイナビブックス](https://book.mynavi.jp/)とすればリンクを記述することができます。 \n",
    "\n",
    "次のようにLaTex形式で数式を記述することができます。\n",
    "\n",
    "$$ \n",
    "y = ax \n",
    "$$\n",
    "\n",
    "外部の画像ファイルをこのようにセル内に埋め込むことも簡単です。\n",
    "\n",
    "![画像1](http://pub.mynavi.jp/wp-content/uploads/2015/09/ico_mynavibooks.png)\n"
   ]
  },
  {
   "cell_type": "markdown",
   "metadata": {},
   "source": [
    "ここまでで、あなたはJuptyerLabを利用して文芸的プログラミングの第一歩を踏み出せるようになりました！\n",
    "セルのブロック内で様々なプログラムを記述し、どのように動くかを試してみましょう:)\n",
    "\n",
    "本書では触れませんが、\n",
    "\n",
    "- Python3 チュートリアル: https://docs.python.jp/3/tutorial/\n",
    "- Jupyter Documentation: https://jupyter.org/documentation\n",
    "- Jupyter Lab Reference (英語): https://jupyterlab.readthedocs.io/en/stable/#\n",
    "\n",
    "のようなドキュメントを参照すると良いでしょう。\n",
    "\n",
    "Markdownに関するさらなる書式については\n",
    "\n",
    "- Github Help - Markdown Referece: https://help.github.com/articles/basic-writing-and-formatting-syntax\n",
    "\n",
    "をおすすめします。"
   ]
  },
  {
   "cell_type": "code",
   "execution_count": null,
   "metadata": {
    "slideshow": {
     "slide_type": "-"
    }
   },
   "outputs": [],
   "source": []
  }
 ],
 "metadata": {
  "kernelspec": {
   "display_name": "conda_python3",
   "language": "python",
   "name": "conda_python3"
  },
  "language_info": {
   "codemirror_mode": {
    "name": "ipython",
    "version": 3
   },
   "file_extension": ".py",
   "mimetype": "text/x-python",
   "name": "python",
   "nbconvert_exporter": "python",
   "pygments_lexer": "ipython3",
   "version": "3.6.5"
  }
 },
 "nbformat": 4,
 "nbformat_minor": 2
}
